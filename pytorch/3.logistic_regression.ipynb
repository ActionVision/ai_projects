{
 "cells": [
  {
   "cell_type": "markdown",
   "metadata": {},
   "source": [
    "![](./img/dl_banner.jpg)"
   ]
  },
  {
   "cell_type": "markdown",
   "metadata": {},
   "source": [
    "# pytorch逻辑回归\n",
    "#### \\[稀牛学院 x 网易云课程\\]《深度学习工程师(实战)》课程资料 by [@寒小阳](https://blog.csdn.net/han_xiaoyang)"
   ]
  },
  {
   "cell_type": "markdown",
   "metadata": {},
   "source": [
    "## 1.导入工具库"
   ]
  },
  {
   "cell_type": "code",
   "execution_count": 1,
   "metadata": {},
   "outputs": [],
   "source": [
    "import torch\n",
    "import torch.nn as nn\n",
    "import torchvision\n",
    "import torchvision.transforms as transforms"
   ]
  },
  {
   "cell_type": "markdown",
   "metadata": {},
   "source": [
    "## 2.设定超参数"
   ]
  },
  {
   "cell_type": "code",
   "execution_count": 2,
   "metadata": {},
   "outputs": [],
   "source": [
    "input_size = 784 # 输入维度\n",
    "num_classes = 10 # 输出类别数\n",
    "num_epochs = 5 # 迭代轮次\n",
    "batch_size = 100 # 一批数据大小\n",
    "learning_rate = 0.001 # 学习率"
   ]
  },
  {
   "cell_type": "markdown",
   "metadata": {},
   "source": [
    "## 3.准备数据\n",
    "#### \\[稀牛学院 x 网易云课程\\]《深度学习工程师(实战)》课程资料 by [@寒小阳](https://blog.csdn.net/han_xiaoyang)"
   ]
  },
  {
   "cell_type": "code",
   "execution_count": 3,
   "metadata": {},
   "outputs": [
    {
     "name": "stdout",
     "output_type": "stream",
     "text": [
      "Downloading http://yann.lecun.com/exdb/mnist/train-images-idx3-ubyte.gz\n",
      "Downloading http://yann.lecun.com/exdb/mnist/train-labels-idx1-ubyte.gz\n",
      "Downloading http://yann.lecun.com/exdb/mnist/t10k-images-idx3-ubyte.gz\n",
      "Downloading http://yann.lecun.com/exdb/mnist/t10k-labels-idx1-ubyte.gz\n",
      "Processing...\n",
      "Done!\n"
     ]
    }
   ],
   "source": [
    "# MNIST数据集\n",
    "train_dataset = torchvision.datasets.MNIST(root='../../data', \n",
    "                                           train=True, \n",
    "                                           transform=transforms.ToTensor(),\n",
    "                                           download=True)\n",
    "\n",
    "test_dataset = torchvision.datasets.MNIST(root='../../data', \n",
    "                                          train=False, \n",
    "                                          transform=transforms.ToTensor())\n",
    "\n",
    "# Data loader构建输入流水线\n",
    "train_loader = torch.utils.data.DataLoader(dataset=train_dataset, \n",
    "                                           batch_size=batch_size, \n",
    "                                           shuffle=True)\n",
    "\n",
    "test_loader = torch.utils.data.DataLoader(dataset=test_dataset, \n",
    "                                          batch_size=batch_size, \n",
    "                                          shuffle=False)"
   ]
  },
  {
   "cell_type": "markdown",
   "metadata": {},
   "source": [
    "## 4.构建模型、定义损失与优化器"
   ]
  },
  {
   "cell_type": "code",
   "execution_count": 4,
   "metadata": {},
   "outputs": [],
   "source": [
    "# 逻辑回归\n",
    "model = nn.Linear(input_size, num_classes)\n",
    "\n",
    "# 使用交叉熵损失和随机梯度下降优化\n",
    "criterion = nn.CrossEntropyLoss()  \n",
    "optimizer = torch.optim.SGD(model.parameters(), lr=learning_rate)  "
   ]
  },
  {
   "cell_type": "markdown",
   "metadata": {},
   "source": [
    "## 5.迭代与训练\n",
    "#### \\[稀牛学院 x 网易云课程\\]《深度学习工程师(实战)》课程资料 by [@寒小阳](https://blog.csdn.net/han_xiaoyang)"
   ]
  },
  {
   "cell_type": "code",
   "execution_count": 5,
   "metadata": {},
   "outputs": [
    {
     "name": "stdout",
     "output_type": "stream",
     "text": [
      "目前总轮次进程 [1/5], 当前批次进程 [100/600], 当前损失: 2.2410\n",
      "目前总轮次进程 [1/5], 当前批次进程 [200/600], 当前损失: 2.1368\n",
      "目前总轮次进程 [1/5], 当前批次进程 [300/600], 当前损失: 2.0255\n",
      "目前总轮次进程 [1/5], 当前批次进程 [400/600], 当前损失: 1.9365\n",
      "目前总轮次进程 [1/5], 当前批次进程 [500/600], 当前损失: 1.8886\n",
      "目前总轮次进程 [1/5], 当前批次进程 [600/600], 当前损失: 1.7517\n",
      "目前总轮次进程 [2/5], 当前批次进程 [100/600], 当前损失: 1.6993\n",
      "目前总轮次进程 [2/5], 当前批次进程 [200/600], 当前损失: 1.7027\n",
      "目前总轮次进程 [2/5], 当前批次进程 [300/600], 当前损失: 1.6732\n",
      "目前总轮次进程 [2/5], 当前批次进程 [400/600], 当前损失: 1.5405\n",
      "目前总轮次进程 [2/5], 当前批次进程 [500/600], 当前损失: 1.5700\n",
      "目前总轮次进程 [2/5], 当前批次进程 [600/600], 当前损失: 1.4359\n",
      "目前总轮次进程 [3/5], 当前批次进程 [100/600], 当前损失: 1.4336\n",
      "目前总轮次进程 [3/5], 当前批次进程 [200/600], 当前损失: 1.4238\n",
      "目前总轮次进程 [3/5], 当前批次进程 [300/600], 当前损失: 1.3129\n",
      "目前总轮次进程 [3/5], 当前批次进程 [400/600], 当前损失: 1.2809\n",
      "目前总轮次进程 [3/5], 当前批次进程 [500/600], 当前损失: 1.2497\n",
      "目前总轮次进程 [3/5], 当前批次进程 [600/600], 当前损失: 1.2317\n",
      "目前总轮次进程 [4/5], 当前批次进程 [100/600], 当前损失: 1.1277\n",
      "目前总轮次进程 [4/5], 当前批次进程 [200/600], 当前损失: 1.1268\n",
      "目前总轮次进程 [4/5], 当前批次进程 [300/600], 当前损失: 1.1515\n",
      "目前总轮次进程 [4/5], 当前批次进程 [400/600], 当前损失: 1.1639\n",
      "目前总轮次进程 [4/5], 当前批次进程 [500/600], 当前损失: 1.1268\n",
      "目前总轮次进程 [4/5], 当前批次进程 [600/600], 当前损失: 1.2022\n",
      "目前总轮次进程 [5/5], 当前批次进程 [100/600], 当前损失: 1.1043\n",
      "目前总轮次进程 [5/5], 当前批次进程 [200/600], 当前损失: 1.1781\n",
      "目前总轮次进程 [5/5], 当前批次进程 [300/600], 当前损失: 1.0433\n",
      "目前总轮次进程 [5/5], 当前批次进程 [400/600], 当前损失: 0.9951\n",
      "目前总轮次进程 [5/5], 当前批次进程 [500/600], 当前损失: 1.0204\n",
      "目前总轮次进程 [5/5], 当前批次进程 [600/600], 当前损失: 1.0043\n"
     ]
    }
   ],
   "source": [
    "# 训练模型\n",
    "total_step = len(train_loader)\n",
    "for epoch in range(num_epochs):\n",
    "    for i, (images, labels) in enumerate(train_loader):\n",
    "        # 数据维度变更\n",
    "        images = images.reshape(-1, 28*28)\n",
    "        \n",
    "        # 前向计算\n",
    "        outputs = model(images)\n",
    "        loss = criterion(outputs, labels)\n",
    "        \n",
    "        # 反向传播和优化\n",
    "        optimizer.zero_grad()\n",
    "        loss.backward()\n",
    "        optimizer.step()\n",
    "        \n",
    "        if (i+1) % 100 == 0:\n",
    "            print ('目前总轮次进程 [{}/{}], 当前批次进程 [{}/{}], 当前损失: {:.4f}' \n",
    "                   .format(epoch+1, num_epochs, i+1, total_step, loss.item()))"
   ]
  },
  {
   "cell_type": "markdown",
   "metadata": {},
   "source": [
    "## 6.预估与测试集评估\n",
    "#### \\[稀牛学院 x 网易云课程\\]《深度学习工程师(实战)》课程资料 by [@寒小阳](https://blog.csdn.net/han_xiaoyang)"
   ]
  },
  {
   "cell_type": "code",
   "execution_count": 6,
   "metadata": {},
   "outputs": [
    {
     "name": "stdout",
     "output_type": "stream",
     "text": [
      "10000张测试图片上的准确率为 82 %\n"
     ]
    }
   ],
   "source": [
    "with torch.no_grad():\n",
    "    correct = 0\n",
    "    total = 0\n",
    "    for images, labels in test_loader:\n",
    "        images = images.reshape(-1, 28*28)\n",
    "        outputs = model(images)\n",
    "        _, predicted = torch.max(outputs.data, 1)\n",
    "        total += labels.size(0)\n",
    "        correct += (predicted == labels).sum()\n",
    "\n",
    "    print('10000张测试图片上的准确率为 {} %'.format(100 * correct / total))\n",
    "\n",
    "# 模型存储\n",
    "torch.save(model.state_dict(), './model/logistic_regression.ckpt')"
   ]
  },
  {
   "cell_type": "markdown",
   "metadata": {},
   "source": [
    "### 版权归 © 稀牛学院 所有 保留所有权利\n",
    "![](./img/xiniu_neteasy.png)"
   ]
  },
  {
   "cell_type": "code",
   "execution_count": null,
   "metadata": {},
   "outputs": [],
   "source": []
  }
 ],
 "metadata": {
  "kernelspec": {
   "display_name": "Python 3",
   "language": "python",
   "name": "python3"
  },
  "language_info": {
   "codemirror_mode": {
    "name": "ipython",
    "version": 3
   },
   "file_extension": ".py",
   "mimetype": "text/x-python",
   "name": "python",
   "nbconvert_exporter": "python",
   "pygments_lexer": "ipython3",
   "version": "3.6.4"
  }
 },
 "nbformat": 4,
 "nbformat_minor": 2
}
