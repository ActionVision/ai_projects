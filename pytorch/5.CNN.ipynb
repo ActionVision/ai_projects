{
 "cells": [
  {
   "cell_type": "markdown",
   "metadata": {},
   "source": [
    "![](./img/dl_banner.jpg)"
   ]
  },
  {
   "cell_type": "markdown",
   "metadata": {},
   "source": [
    "# pytorch卷积神经网络\n",
    "#### \\[稀牛学院 x 网易云课程\\]《深度学习工程师(实战)》课程资料 by [@寒小阳](https://blog.csdn.net/han_xiaoyang)"
   ]
  },
  {
   "cell_type": "markdown",
   "metadata": {},
   "source": [
    "## 1.导入工具库"
   ]
  },
  {
   "cell_type": "code",
   "execution_count": 1,
   "metadata": {},
   "outputs": [],
   "source": [
    "import torch \n",
    "import torch.nn as nn\n",
    "import torchvision\n",
    "import torchvision.transforms as transforms"
   ]
  },
  {
   "cell_type": "markdown",
   "metadata": {},
   "source": [
    "## 2.设定超参数"
   ]
  },
  {
   "cell_type": "code",
   "execution_count": 2,
   "metadata": {},
   "outputs": [],
   "source": [
    "device = torch.device('cuda' if torch.cuda.is_available() else 'cpu') # 有gpu就用gpu\n",
    "num_classes = 10 # 输出类别数\n",
    "num_epochs = 5 # 迭代轮次\n",
    "batch_size = 100 # 一批数据大小\n",
    "learning_rate = 0.001 # 学习率"
   ]
  },
  {
   "cell_type": "markdown",
   "metadata": {},
   "source": [
    "## 3.准备数据\n",
    "#### \\[稀牛学院 x 网易云课程\\]《深度学习工程师(实战)》课程资料 by [@寒小阳](https://blog.csdn.net/han_xiaoyang)"
   ]
  },
  {
   "cell_type": "code",
   "execution_count": 3,
   "metadata": {},
   "outputs": [],
   "source": [
    "# MNIST数据集\n",
    "train_dataset = torchvision.datasets.MNIST(root='../../data', \n",
    "                                           train=True, \n",
    "                                           transform=transforms.ToTensor(),\n",
    "                                           download=True)\n",
    "\n",
    "test_dataset = torchvision.datasets.MNIST(root='../../data', \n",
    "                                          train=False, \n",
    "                                          transform=transforms.ToTensor())\n",
    "\n",
    "# Data loader构建输入流水线\n",
    "train_loader = torch.utils.data.DataLoader(dataset=train_dataset, \n",
    "                                           batch_size=batch_size, \n",
    "                                           shuffle=True)\n",
    "\n",
    "test_loader = torch.utils.data.DataLoader(dataset=test_dataset, \n",
    "                                          batch_size=batch_size, \n",
    "                                          shuffle=False)"
   ]
  },
  {
   "cell_type": "markdown",
   "metadata": {},
   "source": [
    "## 4.构建模型、定义损失与优化器\n",
    "#### \\[稀牛学院 x 网易云课程\\]《深度学习工程师(实战)》课程资料 by [@寒小阳](https://blog.csdn.net/han_xiaoyang)"
   ]
  },
  {
   "cell_type": "code",
   "execution_count": 4,
   "metadata": {},
   "outputs": [],
   "source": [
    "class ConvNet(nn.Module):\n",
    "    def __init__(self, num_classes=10):\n",
    "        super(ConvNet, self).__init__()\n",
    "        # 卷积+BN+Relu+最大池化\n",
    "        self.layer1 = nn.Sequential(\n",
    "            nn.Conv2d(1, 16, kernel_size=5, stride=1, padding=2),\n",
    "            nn.BatchNorm2d(16),\n",
    "            nn.ReLU(),\n",
    "            nn.MaxPool2d(kernel_size=2, stride=2))\n",
    "        # 卷积+BN+Relu+最大池化\n",
    "        self.layer2 = nn.Sequential(\n",
    "            nn.Conv2d(16, 32, kernel_size=5, stride=1, padding=2),\n",
    "            nn.BatchNorm2d(32),\n",
    "            nn.ReLU(),\n",
    "            nn.MaxPool2d(kernel_size=2, stride=2))\n",
    "        self.fc = nn.Linear(7*7*32, num_classes)\n",
    "        \n",
    "    def forward(self, x):\n",
    "        out = self.layer1(x)\n",
    "        out = self.layer2(out)\n",
    "        out = out.reshape(out.size(0), -1)\n",
    "        out = self.fc(out)\n",
    "        return out\n",
    "\n",
    "model = ConvNet(num_classes).to(device)\n",
    "\n",
    "# 交叉熵损失与Adam优化器\n",
    "criterion = nn.CrossEntropyLoss()\n",
    "optimizer = torch.optim.Adam(model.parameters(), lr=learning_rate)"
   ]
  },
  {
   "cell_type": "markdown",
   "metadata": {},
   "source": [
    "## 5.迭代与训练\n",
    "#### \\[稀牛学院 x 网易云课程\\]《深度学习工程师(实战)》课程资料 by [@寒小阳](https://blog.csdn.net/han_xiaoyang)"
   ]
  },
  {
   "cell_type": "code",
   "execution_count": 5,
   "metadata": {},
   "outputs": [
    {
     "name": "stdout",
     "output_type": "stream",
     "text": [
      "目前总轮次进程 [1/5], 当前批次进程 [100/600], 当前损失: 0.2342\n",
      "目前总轮次进程 [1/5], 当前批次进程 [200/600], 当前损失: 0.1089\n",
      "目前总轮次进程 [1/5], 当前批次进程 [300/600], 当前损失: 0.1088\n",
      "目前总轮次进程 [1/5], 当前批次进程 [400/600], 当前损失: 0.0809\n",
      "目前总轮次进程 [1/5], 当前批次进程 [500/600], 当前损失: 0.1463\n",
      "目前总轮次进程 [1/5], 当前批次进程 [600/600], 当前损失: 0.0280\n",
      "目前总轮次进程 [2/5], 当前批次进程 [100/600], 当前损失: 0.1417\n",
      "目前总轮次进程 [2/5], 当前批次进程 [200/600], 当前损失: 0.0528\n",
      "目前总轮次进程 [2/5], 当前批次进程 [300/600], 当前损失: 0.0547\n",
      "目前总轮次进程 [2/5], 当前批次进程 [400/600], 当前损失: 0.0576\n",
      "目前总轮次进程 [2/5], 当前批次进程 [500/600], 当前损失: 0.0478\n",
      "目前总轮次进程 [2/5], 当前批次进程 [600/600], 当前损失: 0.0204\n",
      "目前总轮次进程 [3/5], 当前批次进程 [100/600], 当前损失: 0.0140\n",
      "目前总轮次进程 [3/5], 当前批次进程 [200/600], 当前损失: 0.0121\n",
      "目前总轮次进程 [3/5], 当前批次进程 [300/600], 当前损失: 0.0199\n",
      "目前总轮次进程 [3/5], 当前批次进程 [400/600], 当前损失: 0.0165\n",
      "目前总轮次进程 [3/5], 当前批次进程 [500/600], 当前损失: 0.0262\n",
      "目前总轮次进程 [3/5], 当前批次进程 [600/600], 当前损失: 0.0147\n",
      "目前总轮次进程 [4/5], 当前批次进程 [100/600], 当前损失: 0.0411\n",
      "目前总轮次进程 [4/5], 当前批次进程 [200/600], 当前损失: 0.0147\n",
      "目前总轮次进程 [4/5], 当前批次进程 [300/600], 当前损失: 0.0149\n",
      "目前总轮次进程 [4/5], 当前批次进程 [400/600], 当前损失: 0.0143\n",
      "目前总轮次进程 [4/5], 当前批次进程 [500/600], 当前损失: 0.0246\n",
      "目前总轮次进程 [4/5], 当前批次进程 [600/600], 当前损失: 0.0114\n",
      "目前总轮次进程 [5/5], 当前批次进程 [100/600], 当前损失: 0.0033\n",
      "目前总轮次进程 [5/5], 当前批次进程 [200/600], 当前损失: 0.0381\n",
      "目前总轮次进程 [5/5], 当前批次进程 [300/600], 当前损失: 0.0715\n",
      "目前总轮次进程 [5/5], 当前批次进程 [400/600], 当前损失: 0.0288\n",
      "目前总轮次进程 [5/5], 当前批次进程 [500/600], 当前损失: 0.0675\n",
      "目前总轮次进程 [5/5], 当前批次进程 [600/600], 当前损失: 0.0661\n"
     ]
    }
   ],
   "source": [
    "# 训练模型\n",
    "total_step = len(train_loader)\n",
    "for epoch in range(num_epochs):\n",
    "    for i, (images, labels) in enumerate(train_loader):\n",
    "        images = images.to(device)\n",
    "        labels = labels.to(device)\n",
    "        \n",
    "        # 前向运算\n",
    "        outputs = model(images)\n",
    "        loss = criterion(outputs, labels)\n",
    "        \n",
    "        # 反向传播与优化\n",
    "        optimizer.zero_grad()\n",
    "        loss.backward()\n",
    "        optimizer.step()\n",
    "        \n",
    "        if (i+1) % 100 == 0:\n",
    "            print ('目前总轮次进程 [{}/{}], 当前批次进程 [{}/{}], 当前损失: {:.4f}' \n",
    "                   .format(epoch+1, num_epochs, i+1, total_step, loss.item()))"
   ]
  },
  {
   "cell_type": "markdown",
   "metadata": {},
   "source": [
    "## 6.预估与测试集评估\n",
    "#### \\[稀牛学院 x 网易云课程\\]《深度学习工程师(实战)》课程资料 by [@寒小阳](https://blog.csdn.net/han_xiaoyang)"
   ]
  },
  {
   "cell_type": "code",
   "execution_count": 7,
   "metadata": {},
   "outputs": [
    {
     "name": "stdout",
     "output_type": "stream",
     "text": [
      "在10000张测试图片上的准确率为: 99.09 %\n"
     ]
    }
   ],
   "source": [
    "model.eval()  # 评估模式 (BN层使用moving mean/variance而不是mini-batch上的mean/variance)\n",
    "with torch.no_grad():\n",
    "    correct = 0\n",
    "    total = 0\n",
    "    for images, labels in test_loader:\n",
    "        images = images.to(device)\n",
    "        labels = labels.to(device)\n",
    "        outputs = model(images)\n",
    "        _, predicted = torch.max(outputs.data, 1)\n",
    "        total += labels.size(0)\n",
    "        correct += (predicted == labels).sum().item()\n",
    "        \n",
    "    print('在10000张测试图片上的准确率为: {} %'.format(100 * correct / total))\n",
    "\n",
    "# 模型存储\n",
    "torch.save(model.state_dict(), './model/cnn.ckpt')"
   ]
  },
  {
   "cell_type": "markdown",
   "metadata": {},
   "source": [
    "### 版权归 © 稀牛学院 所有 保留所有权利\n",
    "![](./img/xiniu_neteasy.png)"
   ]
  },
  {
   "cell_type": "code",
   "execution_count": null,
   "metadata": {},
   "outputs": [],
   "source": []
  }
 ],
 "metadata": {
  "kernelspec": {
   "display_name": "Python 3",
   "language": "python",
   "name": "python3"
  },
  "language_info": {
   "codemirror_mode": {
    "name": "ipython",
    "version": 3
   },
   "file_extension": ".py",
   "mimetype": "text/x-python",
   "name": "python",
   "nbconvert_exporter": "python",
   "pygments_lexer": "ipython3",
   "version": "3.6.4"
  }
 },
 "nbformat": 4,
 "nbformat_minor": 2
}
