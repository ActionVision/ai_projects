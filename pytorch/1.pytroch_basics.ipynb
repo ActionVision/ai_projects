{
 "cells": [
  {
   "cell_type": "markdown",
   "metadata": {},
   "source": [
    "![](./img/dl_banner.jpg)"
   ]
  },
  {
   "cell_type": "markdown",
   "metadata": {},
   "source": [
    "# pytorch基础\n",
    "#### \\[稀牛学院 x 网易云课程\\]《深度学习工程师(实战)》课程资料 by [@寒小阳](https://blog.csdn.net/han_xiaoyang)"
   ]
  },
  {
   "cell_type": "markdown",
   "metadata": {},
   "source": [
    "## 1.引入工具库"
   ]
  },
  {
   "cell_type": "code",
   "execution_count": 2,
   "metadata": {},
   "outputs": [],
   "source": [
    "import torch \n",
    "import torchvision\n",
    "import torch.nn as nn\n",
    "import numpy as np\n",
    "import torchvision.transforms as transforms"
   ]
  },
  {
   "cell_type": "markdown",
   "metadata": {},
   "source": [
    "## 2.张量计算与自动微分\n",
    "#### \\[稀牛学院 x 网易云课程\\]《深度学习工程师(实战)》课程资料 by [@寒小阳](https://blog.csdn.net/han_xiaoyang)"
   ]
  },
  {
   "cell_type": "code",
   "execution_count": 2,
   "metadata": {},
   "outputs": [
    {
     "name": "stdout",
     "output_type": "stream",
     "text": [
      "tensor(3.)\n",
      "tensor(5.)\n",
      "tensor(1.)\n"
     ]
    }
   ],
   "source": [
    "# 构建张量\n",
    "x = torch.tensor(5., requires_grad=True)\n",
    "w = torch.tensor(3., requires_grad=True)\n",
    "b = torch.tensor(1., requires_grad=True)\n",
    "\n",
    "# 构建计算图\n",
    "y = w * x + b    # y = 3 * x + 1\n",
    "\n",
    "# 反向传播计算梯度\n",
    "y.backward()\n",
    "\n",
    "# 打印出梯度\n",
    "print(x.grad)    # x.grad = 3 \n",
    "print(w.grad)    # w.grad = 5 \n",
    "print(b.grad)    # b.grad = 1"
   ]
  },
  {
   "cell_type": "markdown",
   "metadata": {},
   "source": [
    "## 3.自动微分示例2\n",
    "#### \\[稀牛学院 x 网易云课程\\]《深度学习工程师(实战)》课程资料 by [@寒小阳](https://blog.csdn.net/han_xiaoyang)"
   ]
  },
  {
   "cell_type": "code",
   "execution_count": 8,
   "metadata": {},
   "outputs": [
    {
     "name": "stdout",
     "output_type": "stream",
     "text": [
      "W  Parameter containing:\n",
      "tensor([[-0.1113,  0.0125,  0.2140,  0.2452,  0.2753],\n",
      "        [ 0.2792, -0.4346, -0.4016,  0.1469, -0.0925],\n",
      "        [-0.2516,  0.0477, -0.2980, -0.1493,  0.0825]], requires_grad=True) \n",
      "\n",
      "b  Parameter containing:\n",
      "tensor([-0.3445, -0.0168,  0.3180], requires_grad=True) \n",
      "\n",
      "当前损失为  1.5538787841796875 \n",
      "\n",
      "dL/dw:  tensor([[ 0.1470,  0.1248,  0.1935, -0.0804,  0.2297],\n",
      "        [ 0.1137, -0.6745, -0.6753,  0.1682, -0.3272],\n",
      "        [ 0.0091,  0.2920, -0.2673, -0.1952, -0.0096]]) \n",
      "\n",
      "dL/db:  tensor([-0.2588, -0.0729,  0.3822]) \n",
      "\n",
      "经过1步更新后的损失： 1.5378981828689575 \n",
      "\n"
     ]
    }
   ],
   "source": [
    "# 构建形状为(20,5)和(20, 3)的张量\n",
    "x = torch.randn(20, 5)\n",
    "y = torch.randn(20, 3)\n",
    "\n",
    "# 构建全连接层\n",
    "linear = nn.Linear(5, 3)\n",
    "print ('W ', linear.weight, \"\\n\")\n",
    "print ('b ', linear.bias, \"\\n\")\n",
    "\n",
    "# 构建损失函数，选择优化器\n",
    "criterion = nn.MSELoss()\n",
    "optimizer = torch.optim.SGD(linear.parameters(), lr=0.01)\n",
    "\n",
    "# 前向运算\n",
    "pred = linear(x)\n",
    "\n",
    "# 就算损失\n",
    "loss = criterion(pred, y)\n",
    "print('当前损失为 ', loss.item(), \"\\n\")\n",
    "\n",
    "# 反向传播\n",
    "loss.backward()\n",
    "\n",
    "# 打印梯度\n",
    "print ('dL/dw: ', linear.weight.grad, \"\\n\") \n",
    "print ('dL/db: ', linear.bias.grad, \"\\n\")\n",
    "\n",
    "# 进行一步梯度下降更新\n",
    "optimizer.step()\n",
    "\n",
    "# 打印目前状况\n",
    "pred = linear(x)\n",
    "loss = criterion(pred, y)\n",
    "print('经过1步更新后的损失：', loss.item(), \"\\n\")"
   ]
  },
  {
   "cell_type": "markdown",
   "metadata": {},
   "source": [
    "## 4.数据加载：从numpy\n",
    "#### \\[稀牛学院 x 网易云课程\\]《深度学习工程师(实战)》课程资料 by [@寒小阳](https://blog.csdn.net/han_xiaoyang)"
   ]
  },
  {
   "cell_type": "code",
   "execution_count": 9,
   "metadata": {},
   "outputs": [],
   "source": [
    "# 创建 numpy array\n",
    "x = np.array([[1, 3], [5, 7]])\n",
    "\n",
    "# 转化成 torch tensor\n",
    "y = torch.from_numpy(x)\n",
    "\n",
    "# 从torch tensor转回numpy array\n",
    "z = y.numpy()"
   ]
  },
  {
   "cell_type": "markdown",
   "metadata": {},
   "source": [
    "## 5.数据加载：内置数据集\n",
    "#### \\[稀牛学院 x 网易云课程\\]《深度学习工程师(实战)》课程资料 by [@寒小阳](https://blog.csdn.net/han_xiaoyang)"
   ]
  },
  {
   "cell_type": "code",
   "execution_count": null,
   "metadata": {},
   "outputs": [
    {
     "name": "stdout",
     "output_type": "stream",
     "text": [
      "Downloading https://www.cs.toronto.edu/~kriz/cifar-10-python.tar.gz to ../../data/cifar-10-python.tar.gz\n"
     ]
    }
   ],
   "source": [
    "# 下载与创建CIFAR-10数据集\n",
    "train_dataset = torchvision.datasets.CIFAR10(root='../../data/',\n",
    "                                             train=True, \n",
    "                                             transform=transforms.ToTensor(),\n",
    "                                             download=True)\n",
    "\n",
    "# 方式1：从硬盘读取数据并获取一个数据对\n",
    "image, label = train_dataset[0]\n",
    "print (image.size())\n",
    "print (label)\n",
    "\n",
    "# 方式2：用Data loader加载数据\n",
    "train_loader = torch.utils.data.DataLoader(dataset=train_dataset,\n",
    "                                           batch_size=64, \n",
    "                                           shuffle=True)\n",
    "\n",
    "# 迭代读取数据\n",
    "data_iter = iter(train_loader)\n",
    "\n",
    "# 读取出来一批一批(batch)的数据和标签\n",
    "images, labels = data_iter.next()\n",
    "\n",
    "# 实际的训练过程在这里\n",
    "for images, labels in train_loader:\n",
    "    pass"
   ]
  },
  {
   "cell_type": "markdown",
   "metadata": {},
   "source": [
    "## 6.自定义数据读取\n",
    "#### \\[稀牛学院 x 网易云课程\\]《深度学习工程师(实战)》课程资料 by [@寒小阳](https://blog.csdn.net/han_xiaoyang)"
   ]
  },
  {
   "cell_type": "code",
   "execution_count": null,
   "metadata": {},
   "outputs": [],
   "source": [
    "class CustomDataset(torch.utils.data.Dataset):\n",
    "    def __init__(self):\n",
    "        # TODO\n",
    "        # 1. Initialize file paths or a list of file names. \n",
    "        pass\n",
    "    def __getitem__(self, index):\n",
    "        # TODO\n",
    "        # 1. Read one data from file (e.g. using numpy.fromfile, PIL.Image.open).\n",
    "        # 2. Preprocess the data (e.g. torchvision.Transform).\n",
    "        # 3. Return a data pair (e.g. image and label).\n",
    "        pass\n",
    "    def __len__(self):\n",
    "        # You should change 0 to the total size of your dataset.\n",
    "        return 0 \n",
    "\n",
    "# You can then use the prebuilt data loader. \n",
    "custom_dataset = CustomDataset()\n",
    "train_loader = torch.utils.data.DataLoader(dataset=custom_dataset,\n",
    "                                           batch_size=64, \n",
    "                                           shuffle=True)"
   ]
  },
  {
   "cell_type": "markdown",
   "metadata": {},
   "source": [
    "## 7.预训练模型\n",
    "#### \\[稀牛学院 x 网易云课程\\]《深度学习工程师(实战)》课程资料 by [@寒小阳](https://blog.csdn.net/han_xiaoyang)"
   ]
  },
  {
   "cell_type": "code",
   "execution_count": 3,
   "metadata": {},
   "outputs": [
    {
     "name": "stderr",
     "output_type": "stream",
     "text": [
      "Downloading: \"https://download.pytorch.org/models/resnet18-5c106cde.pth\" to /root/.torch/models/resnet18-5c106cde.pth\n",
      "100.0%\n"
     ]
    },
    {
     "name": "stdout",
     "output_type": "stream",
     "text": [
      "torch.Size([64, 100])\n"
     ]
    }
   ],
   "source": [
    "# 下载预训练好的 ResNet-18\n",
    "resnet = torchvision.models.resnet18(pretrained=True)\n",
    "\n",
    "# 如果我们只finetuning最头部的层次，我们把所有之前的参数全都固定住\n",
    "for param in resnet.parameters():\n",
    "    param.requires_grad = False\n",
    "\n",
    "# 替换头部层次进行finetuning\n",
    "resnet.fc = nn.Linear(resnet.fc.in_features, 100)  # 100只是一个例子，取决于你实际的类别数\n",
    "\n",
    "# 前向计算\n",
    "images = torch.randn(64, 3, 224, 224)\n",
    "outputs = resnet(images)\n",
    "print (outputs.size())"
   ]
  },
  {
   "cell_type": "markdown",
   "metadata": {},
   "source": [
    "## 8.模型存储与加载\n",
    "#### \\[稀牛学院 x 网易云课程\\]《深度学习工程师(实战)》课程资料 by [@寒小阳](https://blog.csdn.net/han_xiaoyang)"
   ]
  },
  {
   "cell_type": "code",
   "execution_count": 5,
   "metadata": {},
   "outputs": [],
   "source": [
    "# 存储与加载模型\n",
    "torch.save(resnet, './model/my_model.ckpt')\n",
    "model = torch.load('./model/my_model.ckpt')\n",
    "\n",
    "# 存储与加载模型参数\n",
    "torch.save(resnet.state_dict(), './model/my_params.ckpt')\n",
    "resnet.load_state_dict(torch.load('./model/my_params.ckpt'))"
   ]
  },
  {
   "cell_type": "markdown",
   "metadata": {},
   "source": [
    "### 版权归 © 稀牛学院 所有 保留所有权利\n",
    "![](./img/xiniu_neteasy.png)"
   ]
  },
  {
   "cell_type": "code",
   "execution_count": null,
   "metadata": {},
   "outputs": [],
   "source": []
  }
 ],
 "metadata": {
  "kernelspec": {
   "display_name": "Python 3",
   "language": "python",
   "name": "python3"
  },
  "language_info": {
   "codemirror_mode": {
    "name": "ipython",
    "version": 3
   },
   "file_extension": ".py",
   "mimetype": "text/x-python",
   "name": "python",
   "nbconvert_exporter": "python",
   "pygments_lexer": "ipython3",
   "version": "3.6.4"
  }
 },
 "nbformat": 4,
 "nbformat_minor": 2
}
