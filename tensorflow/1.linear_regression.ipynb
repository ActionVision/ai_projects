{
 "cells": [
  {
   "cell_type": "markdown",
   "metadata": {},
   "source": [
    "![](./graphs/dl_banner.jpg)"
   ]
  },
  {
   "cell_type": "markdown",
   "metadata": {},
   "source": [
    "# 用tensorflow low level API构建线性回归模型\n",
    "#### \\[稀牛学院 x 网易云课程\\]《深度学习工程师(实战)》课程资料 by [@寒小阳](https://blog.csdn.net/han_xiaoyang)"
   ]
  },
  {
   "cell_type": "markdown",
   "metadata": {},
   "source": [
    "## 1.引入工具库"
   ]
  },
  {
   "cell_type": "code",
   "execution_count": 1,
   "metadata": {},
   "outputs": [],
   "source": [
    "import tensorflow as tf\n",
    "import numpy\n",
    "import matplotlib.pyplot as plt\n",
    "import numpy.random as rnd"
   ]
  },
  {
   "cell_type": "markdown",
   "metadata": {},
   "source": [
    "## 2.设定超参数"
   ]
  },
  {
   "cell_type": "code",
   "execution_count": 2,
   "metadata": {},
   "outputs": [],
   "source": [
    "# 设定各种参数\n",
    "learning_rate = 0.01  # 学习率\n",
    "training_epochs = 1000 # 迭代轮次\n",
    "display_step = 50 # 信息展示间隔轮次"
   ]
  },
  {
   "cell_type": "markdown",
   "metadata": {},
   "source": [
    "## 3.准备数据，设定参数变量"
   ]
  },
  {
   "cell_type": "code",
   "execution_count": 3,
   "metadata": {},
   "outputs": [],
   "source": [
    "# 给定一组训练数据\n",
    "train_X = numpy.asarray([2.3,4.3,5.6,6.3,6.9,4.3,9.9,6.15,7.59,2.167,\n",
    "                         7.4,10.9,5.3,7.9,5.4,9.2,3.1])\n",
    "train_Y = numpy.asarray([1.3,2.76,2.09,3.01,1.9,1.7,3.6,2.6,2.5,1.2,\n",
    "                         2.8,3.5,1.5,2.9,2.42,2.94,1.3])\n",
    "n_samples = train_X.shape[0]"
   ]
  },
  {
   "cell_type": "code",
   "execution_count": 4,
   "metadata": {},
   "outputs": [],
   "source": [
    "# 占位符\n",
    "X = tf.placeholder(\"float\")\n",
    "Y = tf.placeholder(\"float\")\n",
    "\n",
    "# 设定模型权重\n",
    "W = tf.Variable(rnd.randn(), name=\"weight\")\n",
    "b = tf.Variable(rnd.randn(), name=\"bias\")"
   ]
  },
  {
   "cell_type": "markdown",
   "metadata": {},
   "source": [
    "## 4.完成模型构建\n",
    "#### \\[稀牛学院 x 网易云课程\\]《深度学习工程师(实战)》课程资料 by [@寒小阳](https://blog.csdn.net/han_xiaoyang)"
   ]
  },
  {
   "cell_type": "code",
   "execution_count": 5,
   "metadata": {},
   "outputs": [],
   "source": [
    "# 构建线性回归\n",
    "# 想想线性回归是不是y=WX+b的形式\n",
    "pred = tf.add(tf.multiply(X, W), b)"
   ]
  },
  {
   "cell_type": "markdown",
   "metadata": {},
   "source": [
    "## 5.计算损失与优化器设定"
   ]
  },
  {
   "cell_type": "code",
   "execution_count": 6,
   "metadata": {},
   "outputs": [],
   "source": [
    "# 计算损失函数\n",
    "cost = tf.reduce_sum(tf.pow(pred-Y, 2))/(2*n_samples)\n",
    "# 梯度下降优化器\n",
    "optimizer = tf.train.GradientDescentOptimizer(learning_rate).minimize(cost)"
   ]
  },
  {
   "cell_type": "code",
   "execution_count": 7,
   "metadata": {},
   "outputs": [],
   "source": [
    "# 初始化计算图中的变量（用默认值去赋值）\n",
    "init = tf.global_variables_initializer()"
   ]
  },
  {
   "cell_type": "markdown",
   "metadata": {},
   "source": [
    "## 6.在session当中完成计算图计算(损失计算与优化、参数更新迭代)\n",
    "#### \\[稀牛学院 x 网易云课程\\]《深度学习工程师(实战)》课程资料 by [@寒小阳](https://blog.csdn.net/han_xiaoyang)"
   ]
  },
  {
   "cell_type": "code",
   "execution_count": 8,
   "metadata": {},
   "outputs": [
    {
     "name": "stdout",
     "output_type": "stream",
     "text": [
      "第0050轮 损失函数值为 0.146962970 当前的W为 0.4043282 当前的b为 -0.3015547\n",
      "第0100轮 损失函数值为 0.137493134 当前的W为 0.39482716 当前的b为 -0.23303623\n",
      "第0150轮 损失函数值为 0.129218936 当前的W为 0.38594535 当前的b为 -0.16898352\n",
      "第0200轮 损失函数值为 0.121989548 当前的W为 0.37764236 当前的b为 -0.109105416\n",
      "第0250轮 损失函数值为 0.115673073 当前的W为 0.3698806 当前的b为 -0.053129945\n",
      "第0300轮 损失函数值为 0.110154413 当前的W为 0.3626246 当前的b为 -0.0008026183\n",
      "第0350轮 损失函数值为 0.105332755 当前的W为 0.35584158 当前的b为 0.048114374\n",
      "第0400轮 损失函数值为 0.101120234 当前的W为 0.3495005 当前的b为 0.09384317\n",
      "第0450轮 损失函数值为 0.097439878 当前的W为 0.34357285 当前的b为 0.13659164\n",
      "第0500轮 损失函数值为 0.094224572 当前的W为 0.33803156 当前的b为 0.17655389\n",
      "第0550轮 损失函数值为 0.091415606 当前的W为 0.33285135 当前的b为 0.21391164\n",
      "第0600轮 损失函数值为 0.088961683 当前的W为 0.32800883 当前的b为 0.24883454\n",
      "第0650轮 损失函数值为 0.086817950 当前的W为 0.32348177 当前的b为 0.28148144\n",
      "第0700轮 损失函数值为 0.084945254 当前的W为 0.31924996 当前的b为 0.31200072\n",
      "第0750轮 损失函数值为 0.083309427 当前的W为 0.3152937 当前的b为 0.34053057\n",
      "第0800轮 损失函数值为 0.081880488 当前的W为 0.31159556 当前的b为 0.36720088\n",
      "第0850轮 损失函数值为 0.080632299 当前的W为 0.3081383 当前的b为 0.3921332\n",
      "第0900轮 损失函数值为 0.079542071 当前的W为 0.30490646 当前的b为 0.41544044\n",
      "第0950轮 损失函数值为 0.078589834 当前的W为 0.3018852 当前的b为 0.43722874\n",
      "第1000轮 损失函数值为 0.077758148 当前的W为 0.29906085 当前的b为 0.45759702\n",
      "训练完成\n",
      "训练集损失为 0.07775815 最终的W为 0.29906085 最终的b为 0.45759702 \n",
      "\n"
     ]
    },
    {
     "data": {
      "image/png": "[encoded data removed]",
      "text/plain": [
       "<matplotlib.figure.Figure at 0x11fa17d50>"
      ]
     },
     "metadata": {},
     "output_type": "display_data"
    }
   ],
   "source": [
    "# 真正的训练过程\n",
    "with tf.Session() as sess:\n",
    "    sess.run(init)\n",
    "\n",
    "    # 拟合训练数据\n",
    "    for epoch in range(training_epochs):\n",
    "        for (x, y) in zip(train_X, train_Y):\n",
    "            sess.run(optimizer, feed_dict={X: x, Y: y})\n",
    "\n",
    "        # 每个epoch(完整的数据过一遍)之后输出信息\n",
    "        if (epoch+1) % display_step == 0:\n",
    "            c = sess.run(cost, feed_dict={X: train_X, Y:train_Y})\n",
    "            print \"第%04d轮\" % (epoch+1), \"损失函数值为\", \"{:.9f}\".format(c), \\\n",
    "                \"当前的W为\", sess.run(W), \"当前的b为\", sess.run(b)\n",
    "\n",
    "    print \"训练完成\"\n",
    "    training_cost = sess.run(cost, feed_dict={X: train_X, Y: train_Y})\n",
    "    print \"训练集损失为\", training_cost, \"最终的W为\", sess.run(W), \"最终的b为\", sess.run(b), '\\n'\n",
    "\n",
    "    #用matplotlib画一下原始数据点与拟合出来的直线\n",
    "    plt.plot(train_X, train_Y, 'ro', label='Origin data')\n",
    "    plt.plot(train_X, sess.run(W) * train_X + sess.run(b), label='Fitted line')\n",
    "    plt.legend()\n",
    "    plt.show()"
   ]
  },
  {
   "cell_type": "markdown",
   "metadata": {},
   "source": [
    "### 版权归 © 稀牛学院 所有 保留所有权利\n",
    "![](./graphs/xiniu_neteasy.png)"
   ]
  },
  {
   "cell_type": "code",
   "execution_count": null,
   "metadata": {},
   "outputs": [],
   "source": []
  }
 ],
 "metadata": {
  "anaconda-cloud": {},
  "kernelspec": {
   "display_name": "Python 3",
   "language": "python",
   "name": "python3"
  },
  "language_info": {
   "codemirror_mode": {
    "name": "ipython",
    "version": 3
   },
   "file_extension": ".py",
   "mimetype": "text/x-python",
   "name": "python",
   "nbconvert_exporter": "python",
   "pygments_lexer": "ipython3",
   "version": "3.5.2"
  }
 },
 "nbformat": 4,
 "nbformat_minor": 1
}
