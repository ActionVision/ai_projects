{
 "cells": [
  {
   "cell_type": "markdown",
   "metadata": {},
   "source": [
    "![](./graphs/dl_banner.jpg)"
   ]
  },
  {
   "cell_type": "markdown",
   "metadata": {
    "collapsed": true
   },
   "source": [
    "# tensorflow基础\n",
    "## 1.认识变量(Variable)与op\n",
    "#### \\[稀牛学院 x 网易云课程\\]《深度学习工程师(实战)》课程资料 by [@寒小阳](https://blog.csdn.net/han_xiaoyang)"
   ]
  },
  {
   "cell_type": "code",
   "execution_count": 1,
   "metadata": {},
   "outputs": [
    {
     "name": "stdout",
     "output_type": "stream",
     "text": [
      "10\n",
      "100\n"
     ]
    }
   ],
   "source": [
    "# 例子：变量与赋值\n",
    "import tensorflow as tf\n",
    "\n",
    "# 变量与赋值op\n",
    "W = tf.Variable(10)\n",
    "assign_op = W.assign(100)\n",
    "\n",
    "# 在session中启动计算图\n",
    "with tf.Session() as sess:\n",
    "    sess.run(W.initializer)\n",
    "    print(W.eval())\n",
    "    print(sess.run(assign_op))"
   ]
  },
  {
   "cell_type": "code",
   "execution_count": 2,
   "metadata": {},
   "outputs": [
    {
     "data": {
      "text/plain": [
       "<tf.Variable 'Variable:0' shape=() dtype=int32_ref>"
      ]
     },
     "execution_count": 2,
     "metadata": {},
     "output_type": "execute_result"
    }
   ],
   "source": [
    "W"
   ]
  },
  {
   "cell_type": "code",
   "execution_count": 3,
   "metadata": {},
   "outputs": [
    {
     "data": {
      "text/plain": [
       "<tf.Tensor 'Assign:0' shape=() dtype=int32_ref>"
      ]
     },
     "execution_count": 3,
     "metadata": {},
     "output_type": "execute_result"
    }
   ],
   "source": [
    "assign_op"
   ]
  },
  {
   "cell_type": "code",
   "execution_count": 4,
   "metadata": {},
   "outputs": [
    {
     "name": "stdout",
     "output_type": "stream",
     "text": [
      "6\n",
      "12\n",
      "24\n"
     ]
    }
   ],
   "source": [
    "# 示例：变量与操作\n",
    "tmp_var = tf.Variable(3, name=\"tmp_var\") \n",
    "\n",
    "# 把自己乘以2的结果赋值给自己\n",
    "tmp_var_times_two = tmp_var.assign(2 * tmp_var)\n",
    "\n",
    "with tf.Session() as sess:\n",
    "    sess.run(tf.global_variables_initializer())\n",
    "    print(sess.run(tmp_var_times_two))\n",
    "    print(sess.run(tmp_var_times_two))\n",
    "    print(sess.run(tmp_var_times_two))"
   ]
  },
  {
   "cell_type": "code",
   "execution_count": 5,
   "metadata": {},
   "outputs": [
    {
     "name": "stdout",
     "output_type": "stream",
     "text": [
      "30\n",
      "13\n",
      "130\n",
      "-37\n"
     ]
    }
   ],
   "source": [
    "# 示例：session与变量\n",
    "W = tf.Variable(15)\n",
    "sess1 = tf.Session()\n",
    "sess2 = tf.Session()\n",
    "\n",
    "# 每个session当中有一个独立的W\n",
    "sess1.run(W.initializer)\n",
    "sess2.run(W.initializer)\n",
    "\n",
    "print(sess1.run(W.assign_add(15)))\n",
    "print(sess2.run(W.assign_sub(2)))\n",
    "\n",
    "print(sess1.run(W.assign_add(100)))\n",
    "print(sess2.run(W.assign_sub(50)))\n",
    "\n",
    "sess1.close()\n",
    "sess2.close()"
   ]
  },
  {
   "cell_type": "markdown",
   "metadata": {},
   "source": [
    "## 2.op与计算图\n",
    "#### \\[稀牛学院 x 网易云课程\\]《深度学习工程师(实战)》课程资料 by [@寒小阳](https://blog.csdn.net/han_xiaoyang)"
   ]
  },
  {
   "cell_type": "code",
   "execution_count": null,
   "metadata": {},
   "outputs": [],
   "source": [
    "import numpy as np\n",
    "\n",
    "# 示例\n",
    "# 构建两个常量相加的计算图\n",
    "a = tf.constant(2)\n",
    "b = tf.constant(3)\n",
    "x = tf.add(a, b)\n",
    "with tf.Session() as sess:\n",
    "    # 写入日志方便Tensorboard读取\n",
    "    writer = tf.summary.FileWriter('./graphs', sess.graph) \n",
    "    print(sess.run(x))\n",
    "writer.close() #记得把writer关闭"
   ]
  },
  {
   "cell_type": "code",
   "execution_count": null,
   "metadata": {},
   "outputs": [],
   "source": [
    "# 示例\n",
    "# 构建两个常向量相乘的计算图\n",
    "a = tf.constant([2, 2], name='a')\n",
    "b = tf.constant([[0, 1], [2, 3]], name='b')\n",
    "x = tf.multiply(a, b, name='dot_product')\n",
    "with tf.Session() as sess:\n",
    "    print(sess.run(x))"
   ]
  },
  {
   "cell_type": "code",
   "execution_count": null,
   "metadata": {},
   "outputs": [],
   "source": [
    "# 示例\n",
    "# 使用tf.zeros等构建变量\n",
    "x = tf.zeros([2, 3], tf.int32) \n",
    "y = tf.zeros_like(x, optimize=True)\n",
    "print(y)\n",
    "print(tf.get_default_graph().as_graph_def())\n",
    "with tf.Session() as sess:\n",
    "    y = sess.run(y)"
   ]
  },
  {
   "cell_type": "code",
   "execution_count": null,
   "metadata": {},
   "outputs": [],
   "source": [
    "# 示例\n",
    "# linspace与range\n",
    "with tf.Session() as sess:\n",
    "    print(sess.run(tf.linspace(10.0, 13.0, 4)))\n",
    "    print(sess.run(tf.range(5)))\n",
    "    for i in np.arange(5):\n",
    "        print(i)"
   ]
  },
  {
   "cell_type": "code",
   "execution_count": null,
   "metadata": {},
   "outputs": [],
   "source": [
    "# 示例\n",
    "# zeros_like 与 ones_like\n",
    "samples = tf.multinomial(tf.constant([[1., 3., 1]]), 5)\n",
    "\n",
    "with tf.Session() as sess:\n",
    "    for _ in range(10):\n",
    "        print(sess.run(samples))\n",
    "\n",
    "t_0 = 19 \n",
    "x = tf.zeros_like(t_0) # ==> 0\n",
    "y = tf.ones_like(t_0) # ==> 1\n",
    "\n",
    "with tf.Session() as sess:\n",
    "    print(sess.run([x, y]))"
   ]
  },
  {
   "cell_type": "code",
   "execution_count": null,
   "metadata": {},
   "outputs": [],
   "source": [
    "t_1 = ['apple', 'peach', 'banana']\n",
    "x = tf.zeros_like(t_1) # ==> ['' '' '']\n",
    "y = tf.ones_like(t_1) # ==> TypeError: Expected string, got 1 of type 'int' instead.\n",
    "\n",
    "t_2 = [[True, False, False],\n",
    "       [False, False, True],\n",
    "       [False, True, False]] \n",
    "x = tf.zeros_like(t_2) # ==> 2x2 tensor, all elements are False\n",
    "y = tf.ones_like(t_2) # ==> 2x2 tensor, all elements are True\n",
    "with tf.Session() as sess:\n",
    "    print(sess.run([x, y]))"
   ]
  },
  {
   "cell_type": "code",
   "execution_count": null,
   "metadata": {},
   "outputs": [],
   "source": [
    "with tf.variable_scope('meh') as scope:\n",
    "    a = tf.get_variable('a', [10])\n",
    "    b = tf.get_variable('b', [100])\n",
    "\n",
    "writer = tf.summary.FileWriter('test', tf.get_default_graph())\n",
    "\n",
    "\n",
    "x = tf.Variable(2.0)\n",
    "y = 2.0 * (x ** 3)\n",
    "z = 3.0 + y ** 2\n",
    "grad_z = tf.gradients(z, [x, y])\n",
    "with tf.Session() as sess:\n",
    "    sess.run(x.initializer)\n",
    "    print(sess.run(grad_z))"
   ]
  },
  {
   "cell_type": "markdown",
   "metadata": {},
   "source": [
    "## 2.feed_dict与计算图\n",
    "#### \\[稀牛学院 x 网易云课程\\]《深度学习工程师(实战)》课程资料 by [@寒小阳](https://blog.csdn.net/han_xiaoyang)"
   ]
  },
  {
   "cell_type": "code",
   "execution_count": 6,
   "metadata": {},
   "outputs": [
    {
     "name": "stdout",
     "output_type": "stream",
     "text": [
      "[6. 7. 8.]\n"
     ]
    }
   ],
   "source": [
    "# 示例\n",
    "# 占位符placeholder与feed_dict\n",
    "a = tf.placeholder(tf.float32, shape=[3]) # float32类型，长度为3的向量\n",
    "\n",
    "b = tf.constant([5, 5, 5], tf.float32) # float32类型的常量\n",
    "\n",
    "c = a + b  # 求和，更具体的计算图操作是 tf.add(a, b)\n",
    "\n",
    "with tf.Session() as sess:\n",
    "    # 把a传入计算图，在session中完成计算\n",
    "    print(sess.run(c, {a: [1, 2, 3]}))"
   ]
  },
  {
   "cell_type": "code",
   "execution_count": null,
   "metadata": {},
   "outputs": [],
   "source": [
    "# 示例\n",
    "# 中途传入a进行替换\n",
    "a = tf.add(2, 5)\n",
    "b = tf.multiply(a, 3)\n",
    "\n",
    "with tf.Session() as sess:\n",
    "    replace_dict = {a: 15}\n",
    "    print(sess.run(b, feed_dict=replace_dict))"
   ]
  },
  {
   "cell_type": "markdown",
   "metadata": {},
   "source": [
    "### 版权归 © 稀牛学院 所有 保留所有权利\n",
    "![](./graphs/xiniu_neteasy.png)"
   ]
  },
  {
   "cell_type": "code",
   "execution_count": null,
   "metadata": {},
   "outputs": [],
   "source": []
  }
 ],
 "metadata": {
  "kernelspec": {
   "display_name": "Python 3",
   "language": "python",
   "name": "python3"
  },
  "language_info": {
   "codemirror_mode": {
    "name": "ipython",
    "version": 3
   },
   "file_extension": ".py",
   "mimetype": "text/x-python",
   "name": "python",
   "nbconvert_exporter": "python",
   "pygments_lexer": "ipython3",
   "version": "3.6.4"
  }
 },
 "nbformat": 4,
 "nbformat_minor": 1
}
